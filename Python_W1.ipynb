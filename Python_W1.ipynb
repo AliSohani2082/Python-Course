{
  "nbformat": 4,
  "nbformat_minor": 0,
  "metadata": {
    "colab": {
      "provenance": [],
      "authorship_tag": "ABX9TyOj/lh55Jzly/hp47c5XW75",
      "include_colab_link": true
    },
    "kernelspec": {
      "name": "python3",
      "display_name": "Python 3"
    },
    "language_info": {
      "name": "python"
    }
  },
  "cells": [
    {
      "cell_type": "markdown",
      "metadata": {
        "id": "view-in-github",
        "colab_type": "text"
      },
      "source": [
        "<a href=\"https://colab.research.google.com/github/AliSohani2082/Python-Course/blob/main/Python_W1.ipynb\" target=\"_parent\"><img src=\"https://colab.research.google.com/assets/colab-badge.svg\" alt=\"Open In Colab\"/></a>"
      ]
    },
    {
      "cell_type": "markdown",
      "source": [
        "\n"
      ],
      "metadata": {
        "id": "A6Rs5q_veTwY"
      }
    },
    {
      "cell_type": "markdown",
      "source": [
        "# Hello Python!\n",
        "##!به اولین تمرین دوره پایتون مقدماتی خوش آمدید \n",
        "در این تمرین قصد داریم که مروری بر مباحث مطرح شده در دوره داشته باشیم. من سعی کردم علاوه بر تمرین خلاصه ای از مطالب مطرح شده در کلاس رو هم در این نوتبوک قرار بدم که اگه بخشی از مطالب رو فراموش کردید بتونید به آن مراجعه کنید.\n",
        "ممکن است بعضی از دانشجویان این تمرین ها رو ساده ببینند که البته حق هم دارند. تمرین های هفته اول ساده هستند و صرفا برای دست به کد شدن افراد طراحی شده اند. چون کد نویسی یک مهارت عملی است و فقط با تکرار و تمرین قابل یادگیری است.\n",
        "البته تمرین های نوتبوک هفته بعد قطعا سختر خواهد شد."
      ],
      "metadata": {
        "id": "HN8roR_-eu5P"
      }
    },
    {
      "cell_type": "markdown",
      "source": [
        "## بخش اول: متغیر ها و انواع آنها\n",
        "متغیر یکی از مهمترین مفاهیم هر زبان برنامه نویسی است. متغیر اطلاعاتی است که در بخشی از حافظه ذخیره میشود و میتوان از آن در طول برنامه استفاده کرد یا اینکه مقدار آن را تغییر داد."
      ],
      "metadata": {
        "id": "4EoVkm3khPTT"
      }
    },
    {
      "cell_type": "code",
      "execution_count": null,
      "metadata": {
        "id": "WRfz9CaOd-dd"
      },
      "outputs": [],
      "source": []
    }
  ]
}